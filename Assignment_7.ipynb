{
  "cells": [
    {
      "cell_type": "code",
      "execution_count": null,
      "metadata": {
        "id": "lB7AAs6FVfx9"
      },
      "outputs": [],
      "source": []
    },
    {
      "cell_type": "markdown",
      "metadata": {
        "id": "w2bTZGVwVqyb"
      },
      "source": [
        "Q1. What is a RESTful API?\n",
        "\n",
        "Ans:A RESTful API(Representational state transfer application programming interface) is a set of rules and conventions for building and interacting with web services.it follows the priciples of REST,an architectural style for designing networked applications.RESTful Apis allows systems to communicate over HTTP using standard methods like GET,POST,PUT and DELETE."
      ]
    },
    {
      "cell_type": "markdown",
      "metadata": {
        "id": "D6ZVSEKuWrrX"
      },
      "source": [
        "Q2. Explain the concept of API specification?\n",
        "\n",
        "Ans:API specifications defi how API should behave.They are Formal blueprint that describes:\n",
        "* What endpoints are available\n",
        "* What each endpoint does\n",
        "* What data should be sent (request)\n",
        "* What data will be returned(response)\n",
        "* What errors may occur\n",
        "\n",
        "In short ,API specifications act like contracts between API devlopers and users(clients),ensuring clarity and consistency"
      ]
    },
    {
      "cell_type": "markdown",
      "metadata": {
        "id": "5On3HClpXrn8"
      },
      "source": [
        "Q3.What is Flask, and why is it popular for building APIs?\n",
        "\n",
        "Ans:Flask is a lightweight web framework written in python.It's designed to make it easy to build web applications,especially RESTful API's.Flask is known for being simple,flexible,and minimalist,allowing developers to start quickly and scale up as needed.\n",
        "\n",
        "Flask is popular for Building API's are:\n",
        "* Lightweight & Minimal\n",
        "* Simple Syntax\n",
        "* Easy Routing\n",
        "* REST-Friendly\n",
        "* Extensible\n",
        "* Large community & Ecosystem\n",
        "* WSGI-Compatible"
      ]
    },
    {
      "cell_type": "markdown",
      "metadata": {
        "id": "zP5lK09OY0BS"
      },
      "source": [
        "Q4.What is routing in Flask?\n",
        "\n",
        "Ans: Routing in Flask refers to mapping a URL path to a specific python function known as view function.when a client (like a browser or app) sends a request to a particular URL,Flask uses the routing system to decide which function should handle that request.\n",
        "In Flask,routing is done using the @app.route() decorator"
      ]
    },
    {
      "cell_type": "markdown",
      "metadata": {
        "id": "GbtnQ--oZm34"
      },
      "source": [
        "Q5.How do you create a simple Flask application?\n",
        "\n",
        "Ans: Step by step process\n",
        "* install Flask\n",
        "\n",
        "  pip install flask\n",
        "\n",
        "* Create a python file (e.g,app.py)\n",
        "\n",
        "* Run the application\n",
        "* You will get the output"
      ]
    },
    {
      "cell_type": "markdown",
      "metadata": {
        "id": "JqYOVHM0aeV4"
      },
      "source": [
        "Q6.What are HTTP methods used in RESTful APIs?\n",
        "\n",
        "Ans:The  HTTP methods used in RESTful APIs are:\n",
        "* Get\n",
        "* POST\n",
        "* PUT\n",
        "* PATCH\n",
        "* DELETE"
      ]
    },
    {
      "cell_type": "markdown",
      "metadata": {
        "id": "2fP5x_OlbtX1"
      },
      "source": [
        "Q7. What is the purpose of the @app.route() decorator in Flask?\n",
        "\n",
        "Ans: The @app.route() decorator in FLASK is used to associate a URL path with a function- That function is called a view function .when a request comes to that URL,Flask runs the corresponding function and returns the response.We can use it with  ::\n",
        "* Different Paths\n",
        "* Different URLs\n",
        "* HTTP Methods\n"
      ]
    },
    {
      "cell_type": "markdown",
      "metadata": {
        "id": "MQLFVt9VcDoX"
      },
      "source": [
        "Q8. What is the difference between GET and POST HTTP methods?\n",
        "\n",
        "Ans: GET:\n",
        " * It Retrives data from the server\n",
        " * Sent in the URL query string\n",
        " * Is visible in browser history & URL\n",
        " * It is Idempotence\n",
        " * Requests can be cached by browsers and servers\n",
        " * It Exposes data in the url-less secure for sensitive data.\n",
        "\n",
        "POST:\n",
        "* Send data to the server to create a new resource\n",
        "* Sent in the rquest body\n",
        "* Hidden from URL(more secure)\n",
        "* No Idempotence\n",
        "* Requests are not cached by default\n",
        "* Keeps data in the body-more secure for things like passwords"
      ]
    },
    {
      "cell_type": "markdown",
      "metadata": {
        "id": "oJeZZknQd82z"
      },
      "source": [
        "Q9. How do you handle errors in Flask APIs?\n",
        "\n",
        "Ans:The way to handle errors in Flask APIs are:\n",
        "* Using @app.errorhandler() Decorator\n",
        "* Return Custom Error responses in Routes\n",
        "* using abort() Function\n",
        "* Handling Validation Errors(Manual or with Libraries)\n"
      ]
    },
    {
      "cell_type": "markdown",
      "metadata": {
        "id": "Bmli0JfzevBE"
      },
      "source": [
        "Q10.How do you connect Flask to a SQL database?\n",
        "\n",
        "Ans:The way to connect Flask to a sql database are:\n",
        "* Install Flask & SQLAlchemy\n",
        "* Configure DB URL in Flask\n",
        "* Define models(tables)\n",
        "* Create tables with create_all()\n",
        "* Use SQLAlchemy for CRUD actions\n",
        "\n"
      ]
    },
    {
      "cell_type": "markdown",
      "metadata": {
        "id": "cIuzuEtamY_H"
      },
      "source": [
        "Q11.What is the role of Flask-SQLAlchemy?\n",
        "\n",
        "Ans:Flask-Sqlachemy acts as a bridge between Flask and SQLalchemy.It gives Flask Apps a simple way to interact with databases using python classes instead of raw sql,and handles all the heavy lifting like connection handling,sessions, and migrations."
      ]
    },
    {
      "cell_type": "markdown",
      "metadata": {
        "id": "NWGB2ThInNm0"
      },
      "source": [
        "Q12.What are Flask blueprints, and how are they useful?\n",
        "\n",
        "Ans:Flask Blueprints are a way to organize your flask application into reusable,modular components.They allow you to  split your app into multiple parts,each with its own routes,templates,static files,and even error handlers.\n",
        "They are useful in following ways:\n",
        "* Modularity\n",
        "* Reusability\n",
        "* Scalability\n",
        "* Cleaner Structure"
      ]
    },
    {
      "cell_type": "markdown",
      "metadata": {
        "id": "lXM5uGUiuyXm"
      },
      "source": [
        "Q13.What is the purpose of Flask's request object?\n",
        "\n",
        "Ans:The request object in flask is used to access incoming request data sent by the client.It provides all the details about an HTTP request- such as headers,query parameters,form data,json,and more.Thhe equest:\n",
        "* URL query parameters\n",
        "* Form data\n",
        "*Json Payload\n",
        "* Request headers\n",
        "* Request method\n",
        "* Uploaded files\n",
        "* Full URL\n",
        "* CLient IP address\n"
      ]
    },
    {
      "cell_type": "markdown",
      "metadata": {
        "id": "A5UJeVfEwDHW"
      },
      "source": [
        "Q14.How do you create a RESTful API endpoint using Flask?\n",
        "\n",
        "Ans:The way to create a RESTful API endpoint using Flask are:\n",
        "* Install flask\n",
        "* Create your flask app\n",
        "* Define RESTful Endpoints\n",
        "* Run the app"
      ]
    },
    {
      "cell_type": "markdown",
      "metadata": {
        "id": "zBS4QBNywp-F"
      },
      "source": [
        "Q15.  What is the purpose of Flask's jsonify() function?\n",
        "\n",
        "Ans: The  in Flask is used to convert python data structures into json and return them as a proper HTTP response with the content type.\n",
        "The features are:\n",
        "* It Automatically sets content-type\n",
        "* It returns proper response object\n",
        "* It handles UTF-8 & escaping\n",
        "\n",
        "The supported data types for jsonify() are:\n",
        "* dict\n",
        "* List\n",
        "* tuple\n"
      ]
    },
    {
      "cell_type": "markdown",
      "metadata": {
        "id": "A1tIunxNx3oO"
      },
      "source": [
        "Q16.Explain Flask’s url_for() function?\n",
        "\n",
        "Ans:Flasks url_for() function is used to dynamically generate URL'S for view functions,based on the functions name rather than hardcoding the url paths.\n",
        "* It automatically updates with route changes\n",
        "* It Clean,DRY,and readable\n",
        "* The Built-in query string handling\n",
        "\n",
        "Syntax:\n",
        "\n",
        "url_for(endpoint,**values)"
      ]
    },
    {
      "cell_type": "markdown",
      "metadata": {
        "id": "gy5mxevBzKW9"
      },
      "source": [
        "Q17. How does Flask handle static files (CSS, JavaScript, etc.)?\n",
        "\n",
        "Ans:Flasks handles static files(like CSS,JavaScript, and images) using a convention-based approach.By defsult,Flask serves static files from a directory named static/ in you project\n",
        "\n",
        "The files automatically maps the /static/ URL path to the static/ folder in your project directory ."
      ]
    },
    {
      "cell_type": "markdown",
      "metadata": {
        "id": "7tdrPve_0FVK"
      },
      "source": [
        "Q18.What is an API specification, and how does it help in building a Flask API?\n",
        "\n",
        "Ans: An API specification is a formal,structured description of how an API works- including its endpoints,HTTP methods,request/response formats,authentication,error handling,and more.The  help in building a Flask API are in the following way:\n",
        "* It helps you to plan endpoints and data formats before coding\n",
        "* It Ensures consistency in requests/responses\n",
        "* The tools used like Swagger UI create live,interactive API docs\n",
        "* It improves collabration backend and frontend teams can work in parallel."
      ]
    },
    {
      "cell_type": "markdown",
      "metadata": {
        "id": "J7vZPRFz1ers"
      },
      "source": [
        "Q19.What are HTTP status codes, and why are they important in a Flask API?\n",
        "\n",
        "Ans:These are three-digit numbers returned by a server to indicate the result of a clients request.They are part of the HTTP response and tell the client whether the request was successful,failed,or something else.In generl the status codes help clients understand what happends when they made a request- without needing to parse thr full response body."
      ]
    },
    {
      "cell_type": "markdown",
      "metadata": {
        "id": "rVLhrX1E2xG0"
      },
      "source": [
        "Q20.How do you handle POST requests in Flask?\n",
        "\n",
        "Ans:To Handle POST requests in Flask,you define a route using the @app.route() decorator and specify methods=['POST'].Then ,you access the submitted data using FLASK's request object.\n",
        "The guide:\n",
        "* Import required Modules.\n",
        "* Create a Flask App\n",
        "* Define a Route That Accepts POST\n"
      ]
    },
    {
      "cell_type": "markdown",
      "metadata": {
        "id": "EGqdl5yg3zcC"
      },
      "source": [
        "Q21. How would you secure a Flask API?\n",
        "\n",
        "Ans:Securing a flask api is essential to prevent unauthorized access,data breaches,and abuse.Flask gives you flexibility to implement multiple layers of security.\n",
        "* It verifies who the user is.\n",
        "* It controls what authenticated users can do\n",
        "* It prevents injection attacks\n",
        "* It Encrypts traffic between client and server\n",
        "* It prevents abuse\n",
        "* It avoids exposing sensitive internal details.\n",
        "* It prevents unauthorized cross-origin access"
      ]
    },
    {
      "cell_type": "markdown",
      "metadata": {
        "id": "oUtBs_5Q5GIL"
      },
      "source": [
        "Q22.What is the significance of the Flask-RESTful extension?\n",
        "\n",
        "Ans:Flask-restful is an extension for flask that helps you build restful api quickly and cleanly by providing abstractions for routing,request parsing,and response formatting.\n",
        "* It automatically maps HTTP methods\n",
        "* It organizes endpoints as python clsses\n",
        "* It validates extracts request arguments easily\n",
        "* It Automatically convrts python dicts to Json\n",
        "* It Integrates Well with FLAK,SQLAlchemy,Marshmallow,etc..."
      ]
    },
    {
      "cell_type": "markdown",
      "metadata": {
        "id": "78evpODQ6g9P"
      },
      "source": [
        "Q23. What is the role of Flask’s session object?\n",
        "\n",
        "Ans:Flasks session object is used to store information across requests for a specific user.it allows you to persist data between different requests made by the same client.\n",
        "\n",
        "Flask stores session data on the client-side using a securely signed cookie.This cookie is encrypted using your apps's SECRET_key to ensure data integrity and prevent tampering.\n",
        "* It Stores login status or USER ID\n",
        "* IT Store theme/language choice\n",
        "* It Cart Contents,progress in a form."
      ]
    },
    {
      "cell_type": "markdown",
      "metadata": {
        "id": "hLrJvoX-7uRU"
      },
      "source": [
        "** Practical Questions **"
      ]
    },
    {
      "cell_type": "markdown",
      "metadata": {
        "id": "nf37qFQ872ZR"
      },
      "source": [
        "Q1.How do you create a basic Flask application?\n"
      ]
    },
    {
      "cell_type": "code",
      "execution_count": null,
      "metadata": {
        "id": "ixa6dezL71VG"
      },
      "outputs": [],
      "source": [
        "#How do you create a basic Flask application?\n",
        "\n",
        "from flask import Flask\n",
        "app = Flask(__name__)\n",
        "@app.route('/')\n",
        "def home():\n",
        "    return 'Hello Flask!'\n"
      ]
    },
    {
      "cell_type": "markdown",
      "metadata": {
        "id": "iTvJiHvx9vki"
      },
      "source": [
        "Q2.How do you serve static files like images or CSS in Flask?\n",
        "\n"
      ]
    },
    {
      "cell_type": "code",
      "source": [
        "# 2. How do you serve static files like images or CSS in Flask?\n",
        "@app.route('/static-demo')\n",
        "def static_demo():\n",
        "    return '''<link rel=\"stylesheet\" href=\"/static/style.css\">\n",
        "              <img src=\"/static/image.jpg\" width=\"100\">''"
      ],
      "metadata": {
        "colab": {
          "base_uri": "https://localhost:8080/",
          "height": 106
        },
        "id": "gLoDBTvSQWW6",
        "outputId": "e46d477b-3cba-4118-c037-3b77def2d972"
      },
      "execution_count": null,
      "outputs": [
        {
          "output_type": "error",
          "ename": "SyntaxError",
          "evalue": "incomplete input (ipython-input-3111657689.py, line 4)",
          "traceback": [
            "\u001b[0;36m  File \u001b[0;32m\"/tmp/ipython-input-3111657689.py\"\u001b[0;36m, line \u001b[0;32m4\u001b[0m\n\u001b[0;31m    return '''<link rel=\"stylesheet\" href=\"/static/style.css\">\u001b[0m\n\u001b[0m           ^\u001b[0m\n\u001b[0;31mSyntaxError\u001b[0m\u001b[0;31m:\u001b[0m incomplete input\n"
          ]
        }
      ]
    },
    {
      "cell_type": "markdown",
      "source": [
        "# 3. How do you define different routes with different HTTP methods in Flask?"
      ],
      "metadata": {
        "id": "1bsJWjmiQdzP"
      }
    },
    {
      "cell_type": "code",
      "source": [
        "# 3. How do you define different routes with different HTTP methods in Flask?\n",
        "from flask import request\n",
        "\n",
        "@app.route('/submit', methods=['GET', 'POST'])\n",
        "def submit_form():\n",
        "    if request.method == 'POST':\n",
        "        return 'Form submitted!'\n",
        "    return 'Submit form page'"
      ],
      "metadata": {
        "id": "zI1YFfpWQf0W"
      },
      "execution_count": null,
      "outputs": []
    },
    {
      "cell_type": "markdown",
      "source": [
        "# 4. How do you render HTML templates in Flask?"
      ],
      "metadata": {
        "id": "Z2SxCAaKQhy9"
      }
    },
    {
      "cell_type": "code",
      "source": [
        "# 4. How do you render HTML templates in Flask?\n",
        "from flask import render_template\n",
        "\n",
        "@app.route('/hello/<name>')\n",
        "def hello(name):\n",
        "    return render_template('hello.html', name=name)"
      ],
      "metadata": {
        "id": "NuZExD2cQkh4"
      },
      "execution_count": null,
      "outputs": []
    },
    {
      "cell_type": "markdown",
      "source": [
        "# 5. How can you generate URLs for routes in Flask using url_for?\n"
      ],
      "metadata": {
        "id": "4xQedq0kQnDB"
      }
    },
    {
      "cell_type": "code",
      "source": [
        "# 5. How can you generate URLs for routes in Flask using url_for?\n",
        "from flask import url_for\n",
        "\n",
        "@app.route('/url-demo')\n",
        "def url_demo():\n",
        "    return url_for('about')\n",
        "\n",
        "@app.route('/about')\n",
        "def about():\n",
        "    return 'About Page'"
      ],
      "metadata": {
        "id": "nMw45lFlQrFM"
      },
      "execution_count": null,
      "outputs": []
    },
    {
      "cell_type": "markdown",
      "source": [
        "6. How do you handle forms in Flask?"
      ],
      "metadata": {
        "id": "DS8fj0KKQs1T"
      }
    },
    {
      "cell_type": "code",
      "source": [
        "6. How do you handle forms in Flask?\n",
        "@app.route('/login', methods=['GET', 'POST'])\n",
        "def login():\n",
        "    if request.method == 'POST':\n",
        "        username = request.form['username']\n",
        "        return f'Logged in as {username}'\n",
        "    return '''\n",
        "        <form method=\"post\">\n",
        "            <input name=\"username\">\n",
        "            <input type=\"submit\">\n",
        "        </form>\n",
        "    '''"
      ],
      "metadata": {
        "colab": {
          "base_uri": "https://localhost:8080/",
          "height": 356
        },
        "id": "htCbrT4DQyN1",
        "outputId": "9bbb3454-ab5d-404a-fafe-e05f426682e5"
      },
      "execution_count": null,
      "outputs": [
        {
          "output_type": "error",
          "ename": "AssertionError",
          "evalue": "View function mapping is overwriting an existing endpoint function: login",
          "traceback": [
            "\u001b[0;31m---------------------------------------------------------------------------\u001b[0m",
            "\u001b[0;31mAssertionError\u001b[0m                            Traceback (most recent call last)",
            "\u001b[0;32m/tmp/ipython-input-3715541440.py\u001b[0m in \u001b[0;36m<cell line: 0>\u001b[0;34m()\u001b[0m\n\u001b[1;32m      1\u001b[0m \u001b[0mget_ipython\u001b[0m\u001b[0;34m(\u001b[0m\u001b[0;34m)\u001b[0m\u001b[0;34m.\u001b[0m\u001b[0mrun_line_magic\u001b[0m\u001b[0;34m(\u001b[0m\u001b[0;34m'pinfo'\u001b[0m\u001b[0;34m,\u001b[0m \u001b[0;34m'Flask'\u001b[0m\u001b[0;34m)\u001b[0m\u001b[0;34m\u001b[0m\u001b[0;34m\u001b[0m\u001b[0m\n\u001b[0;32m----> 2\u001b[0;31m \u001b[0;34m@\u001b[0m\u001b[0mapp\u001b[0m\u001b[0;34m.\u001b[0m\u001b[0mroute\u001b[0m\u001b[0;34m(\u001b[0m\u001b[0;34m'/login'\u001b[0m\u001b[0;34m,\u001b[0m \u001b[0mmethods\u001b[0m\u001b[0;34m=\u001b[0m\u001b[0;34m[\u001b[0m\u001b[0;34m'GET'\u001b[0m\u001b[0;34m,\u001b[0m \u001b[0;34m'POST'\u001b[0m\u001b[0;34m]\u001b[0m\u001b[0;34m)\u001b[0m\u001b[0;34m\u001b[0m\u001b[0;34m\u001b[0m\u001b[0m\n\u001b[0m\u001b[1;32m      3\u001b[0m \u001b[0;32mdef\u001b[0m \u001b[0mlogin\u001b[0m\u001b[0;34m(\u001b[0m\u001b[0;34m)\u001b[0m\u001b[0;34m:\u001b[0m\u001b[0;34m\u001b[0m\u001b[0;34m\u001b[0m\u001b[0m\n\u001b[1;32m      4\u001b[0m     \u001b[0;32mif\u001b[0m \u001b[0mrequest\u001b[0m\u001b[0;34m.\u001b[0m\u001b[0mmethod\u001b[0m \u001b[0;34m==\u001b[0m \u001b[0;34m'POST'\u001b[0m\u001b[0;34m:\u001b[0m\u001b[0;34m\u001b[0m\u001b[0;34m\u001b[0m\u001b[0m\n\u001b[1;32m      5\u001b[0m         \u001b[0musername\u001b[0m \u001b[0;34m=\u001b[0m \u001b[0mrequest\u001b[0m\u001b[0;34m.\u001b[0m\u001b[0mform\u001b[0m\u001b[0;34m[\u001b[0m\u001b[0;34m'username'\u001b[0m\u001b[0;34m]\u001b[0m\u001b[0;34m\u001b[0m\u001b[0;34m\u001b[0m\u001b[0m\n",
            "\u001b[0;32m/usr/local/lib/python3.11/dist-packages/flask/sansio/scaffold.py\u001b[0m in \u001b[0;36mdecorator\u001b[0;34m(f)\u001b[0m\n\u001b[1;32m    360\u001b[0m         \u001b[0;32mdef\u001b[0m \u001b[0mdecorator\u001b[0m\u001b[0;34m(\u001b[0m\u001b[0mf\u001b[0m\u001b[0;34m:\u001b[0m \u001b[0mT_route\u001b[0m\u001b[0;34m)\u001b[0m \u001b[0;34m->\u001b[0m \u001b[0mT_route\u001b[0m\u001b[0;34m:\u001b[0m\u001b[0;34m\u001b[0m\u001b[0;34m\u001b[0m\u001b[0m\n\u001b[1;32m    361\u001b[0m             \u001b[0mendpoint\u001b[0m \u001b[0;34m=\u001b[0m \u001b[0moptions\u001b[0m\u001b[0;34m.\u001b[0m\u001b[0mpop\u001b[0m\u001b[0;34m(\u001b[0m\u001b[0;34m\"endpoint\"\u001b[0m\u001b[0;34m,\u001b[0m \u001b[0;32mNone\u001b[0m\u001b[0;34m)\u001b[0m\u001b[0;34m\u001b[0m\u001b[0;34m\u001b[0m\u001b[0m\n\u001b[0;32m--> 362\u001b[0;31m             \u001b[0mself\u001b[0m\u001b[0;34m.\u001b[0m\u001b[0madd_url_rule\u001b[0m\u001b[0;34m(\u001b[0m\u001b[0mrule\u001b[0m\u001b[0;34m,\u001b[0m \u001b[0mendpoint\u001b[0m\u001b[0;34m,\u001b[0m \u001b[0mf\u001b[0m\u001b[0;34m,\u001b[0m \u001b[0;34m**\u001b[0m\u001b[0moptions\u001b[0m\u001b[0;34m)\u001b[0m\u001b[0;34m\u001b[0m\u001b[0;34m\u001b[0m\u001b[0m\n\u001b[0m\u001b[1;32m    363\u001b[0m             \u001b[0;32mreturn\u001b[0m \u001b[0mf\u001b[0m\u001b[0;34m\u001b[0m\u001b[0;34m\u001b[0m\u001b[0m\n\u001b[1;32m    364\u001b[0m \u001b[0;34m\u001b[0m\u001b[0m\n",
            "\u001b[0;32m/usr/local/lib/python3.11/dist-packages/flask/sansio/scaffold.py\u001b[0m in \u001b[0;36mwrapper_func\u001b[0;34m(self, *args, **kwargs)\u001b[0m\n\u001b[1;32m     45\u001b[0m     \u001b[0;32mdef\u001b[0m \u001b[0mwrapper_func\u001b[0m\u001b[0;34m(\u001b[0m\u001b[0mself\u001b[0m\u001b[0;34m:\u001b[0m \u001b[0mScaffold\u001b[0m\u001b[0;34m,\u001b[0m \u001b[0;34m*\u001b[0m\u001b[0margs\u001b[0m\u001b[0;34m:\u001b[0m \u001b[0mt\u001b[0m\u001b[0;34m.\u001b[0m\u001b[0mAny\u001b[0m\u001b[0;34m,\u001b[0m \u001b[0;34m**\u001b[0m\u001b[0mkwargs\u001b[0m\u001b[0;34m:\u001b[0m \u001b[0mt\u001b[0m\u001b[0;34m.\u001b[0m\u001b[0mAny\u001b[0m\u001b[0;34m)\u001b[0m \u001b[0;34m->\u001b[0m \u001b[0mt\u001b[0m\u001b[0;34m.\u001b[0m\u001b[0mAny\u001b[0m\u001b[0;34m:\u001b[0m\u001b[0;34m\u001b[0m\u001b[0;34m\u001b[0m\u001b[0m\n\u001b[1;32m     46\u001b[0m         \u001b[0mself\u001b[0m\u001b[0;34m.\u001b[0m\u001b[0m_check_setup_finished\u001b[0m\u001b[0;34m(\u001b[0m\u001b[0mf_name\u001b[0m\u001b[0;34m)\u001b[0m\u001b[0;34m\u001b[0m\u001b[0;34m\u001b[0m\u001b[0m\n\u001b[0;32m---> 47\u001b[0;31m         \u001b[0;32mreturn\u001b[0m \u001b[0mf\u001b[0m\u001b[0;34m(\u001b[0m\u001b[0mself\u001b[0m\u001b[0;34m,\u001b[0m \u001b[0;34m*\u001b[0m\u001b[0margs\u001b[0m\u001b[0;34m,\u001b[0m \u001b[0;34m**\u001b[0m\u001b[0mkwargs\u001b[0m\u001b[0;34m)\u001b[0m\u001b[0;34m\u001b[0m\u001b[0;34m\u001b[0m\u001b[0m\n\u001b[0m\u001b[1;32m     48\u001b[0m \u001b[0;34m\u001b[0m\u001b[0m\n\u001b[1;32m     49\u001b[0m     \u001b[0;32mreturn\u001b[0m \u001b[0mt\u001b[0m\u001b[0;34m.\u001b[0m\u001b[0mcast\u001b[0m\u001b[0;34m(\u001b[0m\u001b[0mF\u001b[0m\u001b[0;34m,\u001b[0m \u001b[0mupdate_wrapper\u001b[0m\u001b[0;34m(\u001b[0m\u001b[0mwrapper_func\u001b[0m\u001b[0;34m,\u001b[0m \u001b[0mf\u001b[0m\u001b[0;34m)\u001b[0m\u001b[0;34m)\u001b[0m\u001b[0;34m\u001b[0m\u001b[0;34m\u001b[0m\u001b[0m\n",
            "\u001b[0;32m/usr/local/lib/python3.11/dist-packages/flask/sansio/app.py\u001b[0m in \u001b[0;36madd_url_rule\u001b[0;34m(self, rule, endpoint, view_func, provide_automatic_options, **options)\u001b[0m\n\u001b[1;32m    655\u001b[0m             \u001b[0mold_func\u001b[0m \u001b[0;34m=\u001b[0m \u001b[0mself\u001b[0m\u001b[0;34m.\u001b[0m\u001b[0mview_functions\u001b[0m\u001b[0;34m.\u001b[0m\u001b[0mget\u001b[0m\u001b[0;34m(\u001b[0m\u001b[0mendpoint\u001b[0m\u001b[0;34m)\u001b[0m\u001b[0;34m\u001b[0m\u001b[0;34m\u001b[0m\u001b[0m\n\u001b[1;32m    656\u001b[0m             \u001b[0;32mif\u001b[0m \u001b[0mold_func\u001b[0m \u001b[0;32mis\u001b[0m \u001b[0;32mnot\u001b[0m \u001b[0;32mNone\u001b[0m \u001b[0;32mand\u001b[0m \u001b[0mold_func\u001b[0m \u001b[0;34m!=\u001b[0m \u001b[0mview_func\u001b[0m\u001b[0;34m:\u001b[0m\u001b[0;34m\u001b[0m\u001b[0;34m\u001b[0m\u001b[0m\n\u001b[0;32m--> 657\u001b[0;31m                 raise AssertionError(\n\u001b[0m\u001b[1;32m    658\u001b[0m                     \u001b[0;34m\"View function mapping is overwriting an existing\"\u001b[0m\u001b[0;34m\u001b[0m\u001b[0;34m\u001b[0m\u001b[0m\n\u001b[1;32m    659\u001b[0m                     \u001b[0;34mf\" endpoint function: {endpoint}\"\u001b[0m\u001b[0;34m\u001b[0m\u001b[0;34m\u001b[0m\u001b[0m\n",
            "\u001b[0;31mAssertionError\u001b[0m: View function mapping is overwriting an existing endpoint function: login"
          ]
        }
      ]
    },
    {
      "cell_type": "markdown",
      "source": [
        "# 7. How can you validate form data in Flask?"
      ],
      "metadata": {
        "id": "K6wC390VQ1gd"
      }
    },
    {
      "cell_type": "code",
      "source": [
        "# 7. How can you validate form data in Flask?\n",
        "@app.route('/register', methods=['POST', 'GET'])\n",
        "def register():\n",
        "    if request.method == 'POST':\n",
        "        email = request.form.get('email')\n",
        "        if not email or '@' not in email:\n",
        "            return 'Invalid email'\n",
        "        return 'Registration successful'\n",
        "    return '''\n",
        "        <form method=\"post\">\n",
        "            <input name=\"email\">\n",
        "            <input type=\"submit\">\n",
        "        </form>\n",
        "    '''"
      ],
      "metadata": {
        "colab": {
          "base_uri": "https://localhost:8080/",
          "height": 356
        },
        "id": "-9Z7ZrA-TYwQ",
        "outputId": "b3179658-0352-4b0e-8f8f-18f6dac868bb"
      },
      "execution_count": null,
      "outputs": [
        {
          "output_type": "error",
          "ename": "AssertionError",
          "evalue": "View function mapping is overwriting an existing endpoint function: register",
          "traceback": [
            "\u001b[0;31m---------------------------------------------------------------------------\u001b[0m",
            "\u001b[0;31mAssertionError\u001b[0m                            Traceback (most recent call last)",
            "\u001b[0;32m/tmp/ipython-input-2372873388.py\u001b[0m in \u001b[0;36m<cell line: 0>\u001b[0;34m()\u001b[0m\n\u001b[1;32m      1\u001b[0m \u001b[0;31m# 7. How can you validate form data in Flask?\u001b[0m\u001b[0;34m\u001b[0m\u001b[0;34m\u001b[0m\u001b[0m\n\u001b[0;32m----> 2\u001b[0;31m \u001b[0;34m@\u001b[0m\u001b[0mapp\u001b[0m\u001b[0;34m.\u001b[0m\u001b[0mroute\u001b[0m\u001b[0;34m(\u001b[0m\u001b[0;34m'/register'\u001b[0m\u001b[0;34m,\u001b[0m \u001b[0mmethods\u001b[0m\u001b[0;34m=\u001b[0m\u001b[0;34m[\u001b[0m\u001b[0;34m'POST'\u001b[0m\u001b[0;34m,\u001b[0m \u001b[0;34m'GET'\u001b[0m\u001b[0;34m]\u001b[0m\u001b[0;34m)\u001b[0m\u001b[0;34m\u001b[0m\u001b[0;34m\u001b[0m\u001b[0m\n\u001b[0m\u001b[1;32m      3\u001b[0m \u001b[0;32mdef\u001b[0m \u001b[0mregister\u001b[0m\u001b[0;34m(\u001b[0m\u001b[0;34m)\u001b[0m\u001b[0;34m:\u001b[0m\u001b[0;34m\u001b[0m\u001b[0;34m\u001b[0m\u001b[0m\n\u001b[1;32m      4\u001b[0m     \u001b[0;32mif\u001b[0m \u001b[0mrequest\u001b[0m\u001b[0;34m.\u001b[0m\u001b[0mmethod\u001b[0m \u001b[0;34m==\u001b[0m \u001b[0;34m'POST'\u001b[0m\u001b[0;34m:\u001b[0m\u001b[0;34m\u001b[0m\u001b[0;34m\u001b[0m\u001b[0m\n\u001b[1;32m      5\u001b[0m         \u001b[0memail\u001b[0m \u001b[0;34m=\u001b[0m \u001b[0mrequest\u001b[0m\u001b[0;34m.\u001b[0m\u001b[0mform\u001b[0m\u001b[0;34m.\u001b[0m\u001b[0mget\u001b[0m\u001b[0;34m(\u001b[0m\u001b[0;34m'email'\u001b[0m\u001b[0;34m)\u001b[0m\u001b[0;34m\u001b[0m\u001b[0;34m\u001b[0m\u001b[0m\n",
            "\u001b[0;32m/usr/local/lib/python3.11/dist-packages/flask/sansio/scaffold.py\u001b[0m in \u001b[0;36mdecorator\u001b[0;34m(f)\u001b[0m\n\u001b[1;32m    360\u001b[0m         \u001b[0;32mdef\u001b[0m \u001b[0mdecorator\u001b[0m\u001b[0;34m(\u001b[0m\u001b[0mf\u001b[0m\u001b[0;34m:\u001b[0m \u001b[0mT_route\u001b[0m\u001b[0;34m)\u001b[0m \u001b[0;34m->\u001b[0m \u001b[0mT_route\u001b[0m\u001b[0;34m:\u001b[0m\u001b[0;34m\u001b[0m\u001b[0;34m\u001b[0m\u001b[0m\n\u001b[1;32m    361\u001b[0m             \u001b[0mendpoint\u001b[0m \u001b[0;34m=\u001b[0m \u001b[0moptions\u001b[0m\u001b[0;34m.\u001b[0m\u001b[0mpop\u001b[0m\u001b[0;34m(\u001b[0m\u001b[0;34m\"endpoint\"\u001b[0m\u001b[0;34m,\u001b[0m \u001b[0;32mNone\u001b[0m\u001b[0;34m)\u001b[0m\u001b[0;34m\u001b[0m\u001b[0;34m\u001b[0m\u001b[0m\n\u001b[0;32m--> 362\u001b[0;31m             \u001b[0mself\u001b[0m\u001b[0;34m.\u001b[0m\u001b[0madd_url_rule\u001b[0m\u001b[0;34m(\u001b[0m\u001b[0mrule\u001b[0m\u001b[0;34m,\u001b[0m \u001b[0mendpoint\u001b[0m\u001b[0;34m,\u001b[0m \u001b[0mf\u001b[0m\u001b[0;34m,\u001b[0m \u001b[0;34m**\u001b[0m\u001b[0moptions\u001b[0m\u001b[0;34m)\u001b[0m\u001b[0;34m\u001b[0m\u001b[0;34m\u001b[0m\u001b[0m\n\u001b[0m\u001b[1;32m    363\u001b[0m             \u001b[0;32mreturn\u001b[0m \u001b[0mf\u001b[0m\u001b[0;34m\u001b[0m\u001b[0;34m\u001b[0m\u001b[0m\n\u001b[1;32m    364\u001b[0m \u001b[0;34m\u001b[0m\u001b[0m\n",
            "\u001b[0;32m/usr/local/lib/python3.11/dist-packages/flask/sansio/scaffold.py\u001b[0m in \u001b[0;36mwrapper_func\u001b[0;34m(self, *args, **kwargs)\u001b[0m\n\u001b[1;32m     45\u001b[0m     \u001b[0;32mdef\u001b[0m \u001b[0mwrapper_func\u001b[0m\u001b[0;34m(\u001b[0m\u001b[0mself\u001b[0m\u001b[0;34m:\u001b[0m \u001b[0mScaffold\u001b[0m\u001b[0;34m,\u001b[0m \u001b[0;34m*\u001b[0m\u001b[0margs\u001b[0m\u001b[0;34m:\u001b[0m \u001b[0mt\u001b[0m\u001b[0;34m.\u001b[0m\u001b[0mAny\u001b[0m\u001b[0;34m,\u001b[0m \u001b[0;34m**\u001b[0m\u001b[0mkwargs\u001b[0m\u001b[0;34m:\u001b[0m \u001b[0mt\u001b[0m\u001b[0;34m.\u001b[0m\u001b[0mAny\u001b[0m\u001b[0;34m)\u001b[0m \u001b[0;34m->\u001b[0m \u001b[0mt\u001b[0m\u001b[0;34m.\u001b[0m\u001b[0mAny\u001b[0m\u001b[0;34m:\u001b[0m\u001b[0;34m\u001b[0m\u001b[0;34m\u001b[0m\u001b[0m\n\u001b[1;32m     46\u001b[0m         \u001b[0mself\u001b[0m\u001b[0;34m.\u001b[0m\u001b[0m_check_setup_finished\u001b[0m\u001b[0;34m(\u001b[0m\u001b[0mf_name\u001b[0m\u001b[0;34m)\u001b[0m\u001b[0;34m\u001b[0m\u001b[0;34m\u001b[0m\u001b[0m\n\u001b[0;32m---> 47\u001b[0;31m         \u001b[0;32mreturn\u001b[0m \u001b[0mf\u001b[0m\u001b[0;34m(\u001b[0m\u001b[0mself\u001b[0m\u001b[0;34m,\u001b[0m \u001b[0;34m*\u001b[0m\u001b[0margs\u001b[0m\u001b[0;34m,\u001b[0m \u001b[0;34m**\u001b[0m\u001b[0mkwargs\u001b[0m\u001b[0;34m)\u001b[0m\u001b[0;34m\u001b[0m\u001b[0;34m\u001b[0m\u001b[0m\n\u001b[0m\u001b[1;32m     48\u001b[0m \u001b[0;34m\u001b[0m\u001b[0m\n\u001b[1;32m     49\u001b[0m     \u001b[0;32mreturn\u001b[0m \u001b[0mt\u001b[0m\u001b[0;34m.\u001b[0m\u001b[0mcast\u001b[0m\u001b[0;34m(\u001b[0m\u001b[0mF\u001b[0m\u001b[0;34m,\u001b[0m \u001b[0mupdate_wrapper\u001b[0m\u001b[0;34m(\u001b[0m\u001b[0mwrapper_func\u001b[0m\u001b[0;34m,\u001b[0m \u001b[0mf\u001b[0m\u001b[0;34m)\u001b[0m\u001b[0;34m)\u001b[0m\u001b[0;34m\u001b[0m\u001b[0;34m\u001b[0m\u001b[0m\n",
            "\u001b[0;32m/usr/local/lib/python3.11/dist-packages/flask/sansio/app.py\u001b[0m in \u001b[0;36madd_url_rule\u001b[0;34m(self, rule, endpoint, view_func, provide_automatic_options, **options)\u001b[0m\n\u001b[1;32m    655\u001b[0m             \u001b[0mold_func\u001b[0m \u001b[0;34m=\u001b[0m \u001b[0mself\u001b[0m\u001b[0;34m.\u001b[0m\u001b[0mview_functions\u001b[0m\u001b[0;34m.\u001b[0m\u001b[0mget\u001b[0m\u001b[0;34m(\u001b[0m\u001b[0mendpoint\u001b[0m\u001b[0;34m)\u001b[0m\u001b[0;34m\u001b[0m\u001b[0;34m\u001b[0m\u001b[0m\n\u001b[1;32m    656\u001b[0m             \u001b[0;32mif\u001b[0m \u001b[0mold_func\u001b[0m \u001b[0;32mis\u001b[0m \u001b[0;32mnot\u001b[0m \u001b[0;32mNone\u001b[0m \u001b[0;32mand\u001b[0m \u001b[0mold_func\u001b[0m \u001b[0;34m!=\u001b[0m \u001b[0mview_func\u001b[0m\u001b[0;34m:\u001b[0m\u001b[0;34m\u001b[0m\u001b[0;34m\u001b[0m\u001b[0m\n\u001b[0;32m--> 657\u001b[0;31m                 raise AssertionError(\n\u001b[0m\u001b[1;32m    658\u001b[0m                     \u001b[0;34m\"View function mapping is overwriting an existing\"\u001b[0m\u001b[0;34m\u001b[0m\u001b[0;34m\u001b[0m\u001b[0m\n\u001b[1;32m    659\u001b[0m                     \u001b[0;34mf\" endpoint function: {endpoint}\"\u001b[0m\u001b[0;34m\u001b[0m\u001b[0;34m\u001b[0m\u001b[0m\n",
            "\u001b[0;31mAssertionError\u001b[0m: View function mapping is overwriting an existing endpoint function: register"
          ]
        }
      ]
    },
    {
      "cell_type": "code",
      "source": [
        "# 8. How do you manage sessions in Flask?\n",
        "from flask import session\n",
        "\n",
        "@app.route('/set-session')\n",
        "def set_session():\n",
        "    app.secret_key = 'your_secret_key'  # Set only where session is used\n",
        "    session['user'] = 'Akash'\n",
        "    return 'Session value set!'\n",
        "\n",
        "@app.route('/get-session')\n",
        "def get_session():\n",
        "    app.secret_key = 'your_secret_key'\n",
        "    return session.get('user', 'No session value set')"
      ],
      "metadata": {
        "id": "JZCja7R_Q__K"
      },
      "execution_count": null,
      "outputs": []
    },
    {
      "cell_type": "code",
      "source": [
        "# 9. How do you redirect to a different route in Flask?\n",
        "from flask import redirect\n",
        "\n",
        "@app.route('/go-home')\n",
        "def go_home_1():\n",
        "    return redirect('/')"
      ],
      "metadata": {
        "id": "6RBRpGufREyy"
      },
      "execution_count": null,
      "outputs": []
    },
    {
      "cell_type": "code",
      "source": [
        "# 10. How do you handle errors in Flask (e.g., 404)?\n",
        "@app.errorhandler(404)\n",
        "def not_found(e):\n",
        "    return 'Custom 404 Error - Page Not Found', 404"
      ],
      "metadata": {
        "id": "_7x5cn-jRIDO"
      },
      "execution_count": null,
      "outputs": []
    },
    {
      "cell_type": "code",
      "source": [
        "# 11. How do you structure a Flask app using Blueprints?\n",
        "from flask import Blueprint\n",
        "\n",
        "simple_bp = Blueprint('simple_bp', __name__)\n",
        "\n",
        "@simple_bp.route('/blueprint')\n",
        "def blueprint_route():\n",
        "    return 'This is a blueprint route!'\n",
        "\n",
        "app.register_blueprint(simple_bp)"
      ],
      "metadata": {
        "id": "VsujAk35RLju"
      },
      "execution_count": null,
      "outputs": []
    },
    {
      "cell_type": "code",
      "source": [
        "#12. How do you define a custom Jinja filter in Flask?\n",
        "@app.template_filter('reverse')\n",
        "def reverse_filter(s):\n",
        "    return s[::-1]\n",
        "# Usage in templates: {{ 'hello'|reverse }} => 'olleh'"
      ],
      "metadata": {
        "id": "Fcbv-XGxRQpI"
      },
      "execution_count": null,
      "outputs": []
    },
    {
      "cell_type": "code",
      "source": [
        "# 13. How can you redirect with query parameters in Flask?\n",
        "@app.route('/query-redirect2')\n",
        "def query_redirect2():\n",
        "    return redirect(url_for('hello', name='Prudhvi'))"
      ],
      "metadata": {
        "id": "Qm5CnsjITAPK"
      },
      "execution_count": null,
      "outputs": []
    },
    {
      "cell_type": "code",
      "source": [
        "# 14. How do you return JSON responses in Flask?\n",
        "from flask import jsonify\n",
        "\n",
        "@app.route('/json-demo-1')\n",
        "    return jsonify({'name': 'Prudhvi', 'age': 30})"
      ],
      "metadata": {
        "colab": {
          "base_uri": "https://localhost:8080/",
          "height": 106
        },
        "id": "F9uG8-MrRtLe",
        "outputId": "707f78b6-62d5-47f3-ca1a-08b5a1dccd7e"
      },
      "execution_count": null,
      "outputs": [
        {
          "output_type": "error",
          "ename": "IndentationError",
          "evalue": "unexpected indent (ipython-input-1072241628.py, line 5)",
          "traceback": [
            "\u001b[0;36m  File \u001b[0;32m\"/tmp/ipython-input-1072241628.py\"\u001b[0;36m, line \u001b[0;32m5\u001b[0m\n\u001b[0;31m    return jsonify({'name': 'Prudhvi', 'age': 30})\u001b[0m\n\u001b[0m    ^\u001b[0m\n\u001b[0;31mIndentationError\u001b[0m\u001b[0;31m:\u001b[0m unexpected indent\n"
          ]
        }
      ]
    },
    {
      "cell_type": "code",
      "source": [
        "# 15. How do you capture URL parameters in Flask?\n",
        "@app.route('/user/<username>')\n",
        "def user_profile_new(username):\n",
        "    return f'User: {username}'\n"
      ],
      "metadata": {
        "id": "gPtDCLy_Rf1T"
      },
      "execution_count": null,
      "outputs": []
    }
  ],
  "metadata": {
    "colab": {
      "provenance": []
    },
    "kernelspec": {
      "display_name": "Python 3",
      "name": "python3"
    },
    "language_info": {
      "name": "python"
    }
  },
  "nbformat": 4,
  "nbformat_minor": 0
}